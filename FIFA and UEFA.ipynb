{
 "cells": [
  {
   "cell_type": "code",
   "execution_count": 3,
   "id": "bd5bf863",
   "metadata": {},
   "outputs": [],
   "source": [
    "import random as rnd\n",
    "class Team:\n",
    "    LUCK = 0.0    \n",
    "    def __init__(self, name, strength = None):\n",
    "        self.name = name\n",
    "        self.strength = strength if strength else rnd.uniform(0,1)\n",
    "    def __str__(self):\n",
    "        return self.name\n",
    "    def __repr__(self):\n",
    "        return self.name\n",
    "    def __lt__(self, t):\n",
    "        return self.strength < t.strength + rnd.gauss(0, Team.LUCK)"
   ]
  },
  {
   "cell_type": "code",
   "execution_count": 4,
   "id": "a65342e7",
   "metadata": {},
   "outputs": [],
   "source": [
    "teams_data = [[(\"Italy\", 7), (\"Wales\", 17), (\"Switzerland\", 13), (\"Turkey\", 29)], [(\"Belgium\", 1), (\"Denmark\", 10), (\"Finland\", 54), (\"Russia\", 38)], [(\"Netherlands\", 16), (\"Austria\", 23), (\"Ukraine\", 24), (\"North Macedonia\", 62)], [(\"England\", 4), (\"Croatia\", 14), (\"Czech Republic\", 40), (\"Scotland\", 44)], [(\"Sweden\", 18), (\"Spain\", 6), (\"Slovakia\", 36), (\"Poland\", 21)], [(\"France\", 2), (\"Germany\", 12), (\"Portugal\", 5), (\"Hungary\", 37)]]"
   ]
  },
  {
   "cell_type": "code",
   "execution_count": 5,
   "id": "2fbf87a1",
   "metadata": {},
   "outputs": [],
   "source": [
    "ratings = sum([[rating for _,rating in group_data] \n",
    "               for group_data in teams_data], [])\n",
    "smallest = min(ratings)\n",
    "largest = max(ratings)\n",
    "teams = [[Team(name, 1 - (rating - smallest) / (largest - smallest))\n",
    "         for name,rating in group_data] for group_data in teams_data]"
   ]
  },
  {
   "cell_type": "code",
   "execution_count": 6,
   "id": "fe54f5e8",
   "metadata": {},
   "outputs": [],
   "source": [
    "after_groups = [sorted(group, reverse=True) for group in teams]\n",
    "third_placers = sorted([g[2] for g in after_groups], reverse=True)[:4]\n",
    "winners = sum([g[:2] for g in after_groups], [])\n",
    "teams16 = winners + third_placers"
   ]
  },
  {
   "cell_type": "code",
   "execution_count": 7,
   "id": "2fd189f4",
   "metadata": {},
   "outputs": [],
   "source": [
    "rnd.shuffle(teams16)\n",
    "pairs16 = zip(teams16[::2], teams16[1::2])"
   ]
  },
  {
   "cell_type": "code",
   "execution_count": 8,
   "id": "1ae42c63",
   "metadata": {},
   "outputs": [],
   "source": [
    "teams8 = [sorted(g, reverse=True)[0] for g in pairs16]\n",
    "pairs8 = zip(teams8[::2], teams8[1::2])\n",
    "teams4 = [sorted(g, reverse=True)[0] for g in pairs8]\n",
    "pairs4 = zip(teams4[::2], teams4[1::2])"
   ]
  },
  {
   "cell_type": "code",
   "execution_count": 9,
   "id": "4c11bdee",
   "metadata": {},
   "outputs": [],
   "source": [
    "teams2 = [sorted(g, reverse=True) for g in pairs4]\n",
    "first, second = sorted([teams2[0][0], teams2[1][0]], reverse=True)\n",
    "third, _      = sorted([teams2[0][1], teams2[1][1]], reverse=True)"
   ]
  },
  {
   "cell_type": "markdown",
   "id": "3dea2976",
   "metadata": {},
   "source": [
    "Round of sixteen"
   ]
  },
  {
   "cell_type": "code",
   "execution_count": 10,
   "id": "b0cfc8e0",
   "metadata": {},
   "outputs": [
    {
     "data": {
      "text/plain": [
       "[Switzerland,\n",
       " Belgium,\n",
       " Portugal,\n",
       " Spain,\n",
       " Sweden,\n",
       " Wales,\n",
       " England,\n",
       " Croatia,\n",
       " Poland,\n",
       " Ukraine,\n",
       " Austria,\n",
       " Denmark,\n",
       " Italy,\n",
       " Germany,\n",
       " Netherlands,\n",
       " France]"
      ]
     },
     "execution_count": 10,
     "metadata": {},
     "output_type": "execute_result"
    }
   ],
   "source": [
    "teams16"
   ]
  },
  {
   "cell_type": "markdown",
   "id": "8faab16e",
   "metadata": {},
   "source": [
    "Quarter"
   ]
  },
  {
   "cell_type": "code",
   "execution_count": 11,
   "id": "7a3f1684",
   "metadata": {},
   "outputs": [
    {
     "data": {
      "text/plain": [
       "[Belgium, Portugal, Wales, England, Poland, Denmark, Italy, France]"
      ]
     },
     "execution_count": 11,
     "metadata": {},
     "output_type": "execute_result"
    }
   ],
   "source": [
    "teams8"
   ]
  },
  {
   "cell_type": "markdown",
   "id": "e992c0cd",
   "metadata": {},
   "source": [
    "Semi"
   ]
  },
  {
   "cell_type": "code",
   "execution_count": 12,
   "id": "3af527ba",
   "metadata": {},
   "outputs": [
    {
     "data": {
      "text/plain": [
       "[Belgium, England, Denmark, France]"
      ]
     },
     "execution_count": 12,
     "metadata": {},
     "output_type": "execute_result"
    }
   ],
   "source": [
    "teams4"
   ]
  },
  {
   "cell_type": "markdown",
   "id": "500e454d",
   "metadata": {},
   "source": [
    "Fourth"
   ]
  },
  {
   "cell_type": "code",
   "execution_count": 14,
   "id": "b2ed333d",
   "metadata": {},
   "outputs": [
    {
     "data": {
      "text/plain": [
       "Denmark"
      ]
     },
     "execution_count": 14,
     "metadata": {},
     "output_type": "execute_result"
    }
   ],
   "source": [
    "_"
   ]
  },
  {
   "cell_type": "markdown",
   "id": "4c4096d5",
   "metadata": {},
   "source": [
    "Third"
   ]
  },
  {
   "cell_type": "code",
   "execution_count": 15,
   "id": "d97a70b6",
   "metadata": {},
   "outputs": [
    {
     "data": {
      "text/plain": [
       "England"
      ]
     },
     "execution_count": 15,
     "metadata": {},
     "output_type": "execute_result"
    }
   ],
   "source": [
    "third"
   ]
  },
  {
   "cell_type": "markdown",
   "id": "5c17fe69",
   "metadata": {},
   "source": [
    "Runner up"
   ]
  },
  {
   "cell_type": "code",
   "execution_count": 16,
   "id": "388a6a17",
   "metadata": {},
   "outputs": [
    {
     "data": {
      "text/plain": [
       "France"
      ]
     },
     "execution_count": 16,
     "metadata": {},
     "output_type": "execute_result"
    }
   ],
   "source": [
    "second"
   ]
  },
  {
   "cell_type": "markdown",
   "id": "06e46c64",
   "metadata": {},
   "source": [
    "Winner"
   ]
  },
  {
   "cell_type": "code",
   "execution_count": 17,
   "id": "e4f07c6a",
   "metadata": {},
   "outputs": [
    {
     "data": {
      "text/plain": [
       "Belgium"
      ]
     },
     "execution_count": 17,
     "metadata": {},
     "output_type": "execute_result"
    }
   ],
   "source": [
    "first"
   ]
  },
  {
   "cell_type": "code",
   "execution_count": null,
   "id": "ee61b21d",
   "metadata": {},
   "outputs": [],
   "source": []
  }
 ],
 "metadata": {
  "kernelspec": {
   "display_name": "Python 3 (ipykernel)",
   "language": "python",
   "name": "python3"
  },
  "language_info": {
   "codemirror_mode": {
    "name": "ipython",
    "version": 3
   },
   "file_extension": ".py",
   "mimetype": "text/x-python",
   "name": "python",
   "nbconvert_exporter": "python",
   "pygments_lexer": "ipython3",
   "version": "3.9.7"
  }
 },
 "nbformat": 4,
 "nbformat_minor": 5
}
